{
 "cells": [
  {
   "cell_type": "markdown",
   "metadata": {
    "lang": "sl"
   },
   "source": [
    "## Priprava podatkov, osnovne statistike in vizualizacija\n",
    "\n",
    "Podatkovno rudarjenje, naloga, `19.3.2022`  \n",
    "**`Luka Šveigl`**"
   ]
  },
  {
   "cell_type": "markdown",
   "metadata": {
    "lang": "sl"
   },
   "source": [
    "Neizogiben del vsakega projekta na področju podatkovnega rudarjenja je iskanje,\n",
    "urejanje in priprava podatkov. V tej nalogi boste spoznali primer podatkovne\n",
    "zbirke in uporabili postopke za pretvorbo podatkov v ustrezno obliko ter pregled in\n",
    "prikaz osnovnih statistik."
   ]
  },
  {
   "cell_type": "markdown",
   "metadata": {
    "lang": "sl"
   },
   "source": [
    "### Podatki\n",
    "\n",
    "V nalogi boste pregledali in pripravili podatke gledanosti Hollywoodskih filmov\n",
    "zbirke [MovieLens](https://grouplens.org/datasets/movielens/) v obdobju **1995-2016**.\n",
    "\n",
    "Iste podatke boste uporabili v vseh nalogah, zato jih dodobra spoznajte. Gre za podatkovno zbirko za\n",
    "vrednotenje priporočilnih sistemov, ki vsebuje gledalce ter njihove ocene za posamezni film na lestvici 1 do 5. \n",
    "Poleg osnovne matrike uporabnikov in ocen vsebuje še dodatne podatke o filmih (npr. žanr, datum, oznake,\n",
    "igralci).\n",
    "\n",
    "Podatki so v mapi `./podatki/ml-latest-small`. Podatkovna zbirka vsebuje naslednje datoteke:\n",
    "\n",
    "* ratings.csv: podatki o uporabnikih in ocenah,\n",
    "* movies.csv: podatki o žanrih filmov,\n",
    "* cast.csv: podatki o igralcih,\n",
    "* tags.csv: podatki o oznakah (ang. \\emph{tags}),\n",
    "* links.csv: povezave na sorodne podatkovne zbirke.\n",
    "\n",
    "\n",
    "Pred pričetkom reševanja naloge si dobro oglejte podatke in datoteko **README.txt**. Podrobnosti o zbirki lahko preberete na [spletni strani](http://files.grouplens.org/datasets/movielens/ml-latest-small-README.html).\n",
    "\n",
    "Pripravite metode za nalaganje podatkov v ustrezne podatkovne strukture. Te vam bodo prišle\n",
    "prav tudi pri nadaljnjih nalogah.\n",
    "Bodite pozorni na velikost podatkov."
   ]
  },
  {
   "cell_type": "markdown",
   "metadata": {
    "lang": "sl"
   },
   "source": [
    "Zapišite kodo za branje datotek in pripravo ustreznih matrik (in drugih struktur) podatkov, ki jih boste uporabi pri odgovarjanju na spodnja vprašanja.\n",
    "\n",
    "Kodo lahko razdelite v več celic."
   ]
  },
  {
   "cell_type": "code",
   "execution_count": 1,
   "metadata": {},
   "outputs": [],
   "source": [
    "from csv import DictReader\n",
    "from datetime import datetime\n",
    "\n",
    "def read_dataset(path):\n",
    "    reader = DictReader(open(path, 'rt', encoding='utf-8'))\n",
    "    return reader\n",
    "\n",
    "def timestamp_to_datetime(timestamp):\n",
    "    return datetime.fromtimestamp(timestamp)"
   ]
  },
  {
   "cell_type": "markdown",
   "metadata": {
    "lang": "sl"
   },
   "source": [
    "### Vprašanja\n",
    "\n",
    "Glavni namen podatkovnega rudarjenja je *odkrivanje znanj iz podatkov*,\n",
    "torej odgovarjanje na vprašanja z uporabo računskih postopkov.\n",
    "\n",
    "Z uporabo principov, ki ste jih spoznali na vajah in predavanjih, odgovorite na\n",
    "spodnja vprašanja. Pri vsakem vprašanju dobro premislite, na kakšen način boste\n",
    "najbolje podali, prikazali oz. utemeljili odgovor. Bistven del so odgovori na\n",
    "vprašanja in ne implementacija vaše rešitve."
   ]
  },
  {
   "cell_type": "markdown",
   "metadata": {
    "lang": "sl"
   },
   "source": [
    "#### 1. vprašanje (15%):\n",
    "Kateri filmi so v povprečju najbolje ocenjeni?  Pripravite seznam\n",
    "filmov ter njihovih povprečnih ocen in izpišite 10 filmov z vrha seznama.\n",
    "Opazite pri takem ocenjevanju kakšno težavo? Kako bi jo lahko rešili? Kakšni so\n",
    "rezultati tedaj?\n",
    "\n",
    "Kodo lahko razdelite v več celic."
   ]
  },
  {
   "cell_type": "code",
   "execution_count": 2,
   "metadata": {},
   "outputs": [
    {
     "name": "stdout",
     "output_type": "stream",
     "text": [
      "['Lamerica (1994)', 'Mute Witness (1994)', 'Picture Bride (Bijo photo) (1994)', 'Red Firecracker, Green Firecracker (Pao Da Shuang Deng) (1994)', 'Paris, France (1993)', 'Faces (1968)', 'Maya Lin: A Strong Clear Vision (1994)', 'Heavy (1995)', 'Death in the Garden (Mort en ce jardin, La) (1956)', 'Day the Sun Turned Cold, The (Tianguo niezi) (1994)']\n"
     ]
    }
   ],
   "source": [
    "movies = read_dataset('podatki/ml-latest-small/movies.csv')\n",
    "ratings = read_dataset('podatki/ml-latest-small/ratings.csv')\n",
    "\n",
    "sum_of_ratings = dict() \n",
    "\n",
    "# Fill dict with movie title, rating sum and rating counter\n",
    "for movie in movies:\n",
    "    sum_of_ratings[movie['movieId']] = [movie['title'], 0, 0]\n",
    "    \n",
    "# Increase rating sum and increment rating counter\n",
    "for rating in ratings:\n",
    "    sum_of_ratings[rating['movieId']][1] += float(rating['rating'])\n",
    "    sum_of_ratings[rating['movieId']][2] += 1\n",
    "    \n",
    "average_ratings = dict()\n",
    "\n",
    "# For movies which have ratings, calculate average rating\n",
    "for k, v in sum_of_ratings.items():\n",
    "    if v[2] != 0:\n",
    "        average_ratings[k] = v[1] / v[2]\n",
    "    \n",
    "# Sort dict and select top 10 results     \n",
    "top = sorted(average_ratings, key=average_ratings.get, reverse=True)[:10]\n",
    "\n",
    "names = []\n",
    "\n",
    "for t in top:\n",
    "    names.append(sum_of_ratings[t][0])\n",
    "\n",
    "print(names)\n"
   ]
  },
  {
   "cell_type": "markdown",
   "metadata": {
    "lang": "sl"
   },
   "source": [
    "Odgovor: **10 najbolje ocenjenih filmov je: 'Lamerica (1994)', 'Mute Witness (1994)', 'Picture Bride (Bijo photo) (1994)', 'Red Firecracker, Green Firecracker (Pao Da Shuang Deng) (1994)', 'Paris, France (1993)', 'Faces (1968)', 'Maya Lin: A Strong Clear Vision (1994)', 'Heavy (1995)', 'Death in the Garden (Mort en ce jardin, La) (1956)', 'Day the Sun Turned Cold, The (Tianguo niezi) (1994)'.**\n",
    "\n",
    "**Problem tega pristopa je, da zelo dobre ocene dobijo filmi, ki imajo lahko zelo malo ocen, kar jim lahko dvigne oceno. To težavo bi lahko odpravili tako, da bi v ocenjevanju upoštevali tudi število glasov ali pa da nebi upoštevali filmov z manj kot določeno št. ocenami. Problem je tudi, da sem za izračune uporabljal slovarje, kar lahko spremeni vrstni red rezultatov.**"
   ]
  },
  {
   "cell_type": "markdown",
   "metadata": {
    "lang": "sl"
   },
   "source": [
    "#### 2. vprašanje (15%):\n",
    "Posamezni film pripada enemu ali več žanrom. \n",
    "Koliko je vseh žanrov? Prikaži porazdelitev žanrov z uporabo ustrezne\n",
    "vizualizacije.\n",
    "\n",
    "Kodo lahko razdelite v več celic."
   ]
  },
  {
   "cell_type": "code",
   "execution_count": 3,
   "metadata": {},
   "outputs": [
    {
     "name": "stdout",
     "output_type": "stream",
     "text": [
      "# of genres: 19\n"
     ]
    },
    {
     "data": {
      "image/png": "[encoded data removed]",
      "text/plain": [
       "<Figure size 720x504 with 1 Axes>"
      ]
     },
     "metadata": {
      "needs_background": "light"
     },
     "output_type": "display_data"
    }
   ],
   "source": [
    "import matplotlib\n",
    "import matplotlib.pyplot as plt\n",
    "\n",
    "movies = read_dataset('podatki/ml-latest-small/movies.csv')\n",
    "genres = dict()\n",
    "\n",
    "# Fill dict with genres and count movies with that genre\n",
    "for movie in movies:\n",
    "    for genre in movie['genres'].split('|'):\n",
    "        if genre in genres.keys():\n",
    "            genres[genre] += 1\n",
    "        else:\n",
    "            genres[genre] = 0\n",
    "            \n",
    "print(\"# of genres: \" + str(len(genres) - 1))\n",
    "\n",
    "# Get sorted list of key : value tuples\n",
    "sorted_genres = sorted(genres.items(), key=lambda x: x[1])\n",
    "\n",
    "# Draw bar graph of genres\n",
    "fig1, ax1 = plt.subplots(figsize=(10, 7))\n",
    "ax1.barh([keys for keys, _ in sorted_genres], [values for _, values in sorted_genres], align='center')\n",
    "\n",
    "plt.show()"
   ]
  },
  {
   "cell_type": "markdown",
   "metadata": {
    "lang": "sl"
   },
   "source": [
    "Odgovor: **Žanrov je 19, brez upoštevanja stolpca 'No genres listed'**"
   ]
  },
  {
   "cell_type": "markdown",
   "metadata": {
    "lang": "sl"
   },
   "source": [
    "#### 3. vprašanje (20%):\n",
    "Število ocen (ogledov) se za posamezni film razlikuje. Ali\n",
    "obstaja povezava med gledanostjo in povprečno oceno filma? Opišite postopek, ki\n",
    "ste ga uporabili pri odgovarjanju na vprašanje.\n",
    "\n",
    "Kodo lahko razdelite v več celic."
   ]
  },
  {
   "cell_type": "code",
   "execution_count": 19,
   "metadata": {
    "scrolled": false
   },
   "outputs": [
    {
     "name": "stdout",
     "output_type": "stream",
     "text": [
      "Pearson's correlation coefficient: \n",
      "[[1.         0.13082727]\n",
      " [0.13082727 1.        ]]\n"
     ]
    },
    {
     "data": {
      "image/png": "[encoded data removed]",
      "text/plain": [
       "<Figure size 720x504 with 1 Axes>"
      ]
     },
     "metadata": {
      "needs_background": "light"
     },
     "output_type": "display_data"
    }
   ],
   "source": [
    "ratings = read_dataset('podatki/ml-latest-small/ratings.csv')\n",
    "\n",
    "sum_of_ratings = dict()\n",
    "# Fill dict of ratings with counters and sums of ratings\n",
    "for rating in ratings:\n",
    "    if rating['movieId'] in sum_of_ratings:\n",
    "        sum_of_ratings[rating['movieId']][0] += 1\n",
    "        sum_of_ratings[rating['movieId']][1] += float(rating['rating'])\n",
    "    else:\n",
    "        sum_of_ratings[rating['movieId']] = [1, float(rating['rating'])]\n",
    "\n",
    "averages = [v[1] / v[0] for _, v in sum_of_ratings.items() if v[0] > 0]\n",
    "rcounts = [v[0] for _, v in sum_of_ratings.items() if v[0] > 0]\n",
    "\n",
    "# Calculate pearson's coefficient of correlation\n",
    "import numpy as np\n",
    "coeff = np.corrcoef(averages, rcounts)\n",
    "\n",
    "print(\"Pearson's correlation coefficient: \\n\" + str(coeff))\n",
    "                 \n",
    "# Plot line graph\n",
    "fig2, ax2 = plt.subplots(figsize=(10, 7))\n",
    "ax2.plot(averages, rcounts, \"k.\")\n",
    "ax2.set_xlabel('average rating')\n",
    "ax2.set_ylabel('# of ratings')\n",
    "plt.show()\n"
   ]
  },
  {
   "cell_type": "markdown",
   "metadata": {
    "lang": "sl"
   },
   "source": [
    "Odgovor: **Pri tej nalogi sem ugotovil, da ni korelacije med številom ocen ter povprečno oceno filma.**\n",
    "\n",
    "**Naloge sem se lotil tako, da sem najprej za vsak film izračunal njegovo povprečno oceno in število ocen, ki jih ima. Nato sem ugotovitve prikazal z sevnim diagramom, rezultate pa potrdil z Pearsonovim koeficientom korelacije.**"
   ]
  },
  {
   "cell_type": "markdown",
   "metadata": {
    "lang": "sl"
   },
   "source": [
    "#### 4. vprašanje (30%):\n",
    "Vsaka ocena je bila vnešena na določen datum (stolpec\n",
    "*timestamp*).  Ali se popularnost posameznih filmov s časom spreminja?\n",
    "Problem reši tako, da za dani film ocene razporediš po času ter v vsaku časovni\n",
    "točki izračunaš povprečje za zadnjih 30, 50, ali 100 ocen. Nariši graf, kako se\n",
    "ocena spreminja in ga prikaži za dva zanimiva primera filmov.\n",
    "\n",
    "Kodo lahko razdelite v več celic."
   ]
  },
  {
   "cell_type": "code",
   "execution_count": null,
   "metadata": {},
   "outputs": [
    {
     "data": {
      "image/png": "[encoded data removed]",
      "text/plain": [
       "<Figure size 720x504 with 1 Axes>"
      ]
     },
     "metadata": {
      "needs_background": "light"
     },
     "output_type": "display_data"
    }
   ],
   "source": [
    "movies = read_dataset('podatki/ml-latest-small/movies.csv')\n",
    "ratings = read_dataset('podatki/ml-latest-small/ratings.csv')\n",
    "\n",
    "# Create empty timestamps dict, first number is rating for Silence of the lambs (1991),\n",
    "# second number is rating for Lord of the Rings: Fellowship of the Ring (2001)\n",
    "timestamps = dict()\n",
    "for i in range(1991, 2023, 3):\n",
    "    timestamps[str(i)] = {'593' : 0, '4993' : 0}\n",
    "\n",
    "# Create lists to hold ratings at given timestamps\n",
    "rating_lotr = []\n",
    "rating_sotl = []\n",
    "\n",
    "# Fill list with ratings and timestamps\n",
    "for rating in ratings:\n",
    "    if rating['movieId'] == '593':\n",
    "        rating_sotl.append((float(rating['rating']), timestamp_to_datetime(int(rating['timestamp']))))\n",
    "    elif rating['movieId'] == '4993':\n",
    "        rating_lotr.append((float(rating['rating']), timestamp_to_datetime(int(rating['timestamp']))))\n",
    "\n",
    "# Sort lists by datetime\n",
    "rating_lotr.sort(key=lambda x: x[1])\n",
    "rating_sotl.sort(key=lambda x: x[1])\n",
    "\n",
    "for ts in timestamps:\n",
    "    # For each timestamp calculate last occurence of that timestamp or lower in list\n",
    "    lotr_index_last = max([-1] + [idx for idx, val in enumerate([y[1].year for y in rating_lotr]) if val <= int(ts)])\n",
    "    sotl_index_last = max([-1] + [idx for idx, val in enumerate([y[1].year for y in rating_sotl]) if val <= int(ts)])\n",
    "        \n",
    "    # Take last 30 timestamps and add rating, increment counter\n",
    "    lotr_avg = [0, 0]\n",
    "    if lotr_index_last != -1:\n",
    "        for i in range(lotr_index_last, lotr_index_last - 30, -1):\n",
    "            if i >= 0:\n",
    "                lotr_avg[0] += 1\n",
    "                lotr_avg[1] += rating_lotr[i][0]\n",
    "            \n",
    "    sotl_avg = [0, 0]\n",
    "    if sotl_index_last != -1:\n",
    "        for i in range(sotl_index_last, sotl_index_last - 30, -1):\n",
    "            if i >= 0:\n",
    "                sotl_avg[0] += 1\n",
    "                sotl_avg[1] += rating_sotl[i][0]\n",
    "            \n",
    "    # Calculate average scores for that timestamp\n",
    "    if lotr_avg[0] != 0:\n",
    "        timestamps[ts]['4993'] = round(lotr_avg[1]/lotr_avg[0], 1)\n",
    "        \n",
    "    if sotl_avg[0] != 0:\n",
    "        timestamps[ts]['593'] = round(sotl_avg[1]/sotl_avg[0], 1)\n",
    "\n",
    "# Draw line graphs\n",
    "fig3, ax3 = plt.subplots(figsize=(10, 7))\n",
    "\n",
    "ax3.plot(timestamps.keys(), [avgr for avgr in [item['593'] for item in timestamps.values()]])\n",
    "ax3.plot(timestamps.keys(), [avgr for avgr in [item['4993'] for item in timestamps.values()]])\n",
    "\n",
    "ax3.set_xlabel('Timestamps')\n",
    "ax3.set_ylabel('Average rating')\n",
    "ax3.legend(['Silence of the lambs(1991)', 'Lord of The Rings: Fellowship of the Ring(2001)'])\n",
    "\n",
    "plt.show()\n",
    "    \n"
   ]
  },
  {
   "cell_type": "markdown",
   "metadata": {
    "lang": "sl"
   },
   "source": [
    "Odgovor: **Pri tej nalogi sem si izbral filma Silence of the lambs in Lord of the Rings: Fellowship of the Ring, saj sta ena najpopularnejših filmov, in imata zato veliko ocen, prav tako pa je med njunima premierama 10 let razlike, zato je bila primerjava toliko bolj zanimiva.** \n",
    "\n",
    "**Naloge sem se lotil tako, da sem najprej časovna obdobja grupiral po 3 leta skupaj, od premiere filma, ki je nastal prej. Nato sem ocene posameznega filma uredil po \"timestamp\", nato pa sem poiskal zadnjo oceno, ki je nastala tistega leta (ali prejšnjih let), kot je timestamp za katerega računam povprečje. To sem naredil za vse časovne točke v slovarju.**\n",
    "\n",
    "**Opazil sem, da so povprečne ocene filmov nekaj let po njuni premieri padle, nato pa so v primeru Lord of the Rings poskočile navzgor, pri Silence of the lambs pa valovale na približno isti vrednosti (z izjemo majhnega skoka okoli leta 2015).**"
   ]
  },
  {
   "cell_type": "markdown",
   "metadata": {
    "lang": "sl"
   },
   "source": [
    "#### 5. vprašanje (20%):\n",
    "Kako bi ocenili popularnost posameznih igralcev? Opišite postopek\n",
    "ocenitve ter izpišite 10 najbolj popularnih igralcev.\n",
    "\n",
    "Kodo lahko razdelite v več celic."
   ]
  },
  {
   "cell_type": "code",
   "execution_count": null,
   "metadata": {},
   "outputs": [
    {
     "name": "stdout",
     "output_type": "stream",
     "text": [
      "1. Tom Hanks\n",
      "2. Harrison Ford\n",
      "3. Robert De Niro\n",
      "4. Gene Hackman\n",
      "5. Tom Cruise\n",
      "6. Jim Carrey\n",
      "7. Bruce Willis\n",
      "8. Bill Murray\n",
      "9. Matt Damon\n",
      "10. Morgan Freeman\n"
     ]
    }
   ],
   "source": [
    "cast = read_dataset('podatki/ml-latest-small/cast.csv')\n",
    "movies = read_dataset('podatki/ml-latest-small/movies.csv')\n",
    "ratings = read_dataset('podatki/ml-latest-small/ratings.csv')\n",
    "\n",
    "movies_watched = dict()\n",
    "\n",
    "# Calculate how many times a movie has been rated\n",
    "for rating in ratings:\n",
    "    if rating['movieId'] in movies_watched:\n",
    "        movies_watched[rating['movieId']] += 1\n",
    "    else:\n",
    "        movies_watched[rating['movieId']] = 1\n",
    "\n",
    "# Get top 400 movies\n",
    "mvs = list(sorted(movies_watched, key=movies_watched.get, reverse=True)[:400])\n",
    "\n",
    "actors_counter = dict()\n",
    "\n",
    "# Check if movie in best movies, if so extract cast and increase appropriate counter\n",
    "for c in cast:\n",
    "    if c['movieId'] in mvs:\n",
    "        for actor in c['cast'].split('|'):\n",
    "            if actor in actors_counter.keys():\n",
    "                actors_counter[actor] += 1\n",
    "            else:\n",
    "                actors_counter[actor] = 1\n",
    "\n",
    "# Get top 10 actors in dictionary and print\n",
    "for i, a in enumerate(sorted(actors_counter.items(), key=lambda x: x[1], reverse=True)[1:11]):\n",
    "    print(str(i + 1) + '. ' + a[0])\n",
    "    "
   ]
  },
  {
   "cell_type": "markdown",
   "metadata": {
    "lang": "sl"
   },
   "source": [
    "Odgovor: **Popularnost igralcev sem ocenil tako, da sem pogledal kolikokrat se pojavijo v največkrat ocenjenih filmih. Ta pristop sem izbral zato, ker se pogosto zgodi da film ni najbolši, igralec v njem pa je popularen (Primer: Pirati s Karibov 5).**\n",
    "\n",
    "**Naloge sem se lotil tako, da sem najprej preštel ocene vseh filmov in izbral 400 največkrat ocenjenih (ob spremembah števila podatkov so bili rezultati seveda malo drugačni, a nekateri igralci so ostali). Nato sem preštel pojavitve igralcev v teh filmih, in izbral 10 najpogostejših.**\n",
    "\n",
    "**Ti igralci so bili:**\n",
    "1. Tom Hanks\n",
    "2. Harrison Ford\n",
    "3. Robert De Niro\n",
    "4. Gene Hackman\n",
    "5. Tom Cruise\n",
    "6. Jim Carrey\n",
    "7. Bruce Willis\n",
    "8. Bill Murray\n",
    "9. Matt Damon\n",
    "10. Morgan Freeman\n"
   ]
  },
  {
   "cell_type": "markdown",
   "metadata": {
    "lang": "sl"
   },
   "source": [
    "#### Bonus vprašanje (5%):\n",
    "\n",
    "Kateri je tvoj najljubši film? Zakaj?"
   ]
  },
  {
   "cell_type": "markdown",
   "metadata": {
    "lang": "sl"
   },
   "source": [
    "Odgovor: **Moj najljubši film je Interstellar (2014) v režiji Christopherja Nolana. Film mi je všeč zaradi konceptov, s katerimi se igra, kot so naprimer relativnost časa in vpliv gravitacije nanjo, večdimenzionalnost, itd. Prav tako mi je zelo všeč glasbeni motiv, katerega skladatelj je Hans Zimmer.**"
   ]
  },
  {
   "cell_type": "markdown",
   "metadata": {},
   "source": []
  },
  {
   "cell_type": "markdown",
   "metadata": {
    "lang": "sl"
   },
   "source": [
    "### Zapiski\n",
    "Za nalaganje podatkov lahko uporabite modul `csv`."
   ]
  },
  {
   "cell_type": "code",
   "execution_count": null,
   "metadata": {},
   "outputs": [],
   "source": [
    "from csv import DictReader\n",
    "\n",
    "reader = DictReader(open('podatki/ml-latest-small/ratings.csv', 'rt', encoding='utf-8'))\n",
    "for row in reader:\n",
    "    user = row[\"userId\"]\n",
    "    movie = row[\"movieId\"]\n",
    "    rating = row[\"rating\"]\n",
    "    timestamp = row[\"timestamp\"]"
   ]
  },
  {
   "cell_type": "markdown",
   "metadata": {
    "lang": "sl"
   },
   "source": [
    "Podatki v zadnji vrstici datoteke:"
   ]
  },
  {
   "cell_type": "code",
   "execution_count": null,
   "metadata": {},
   "outputs": [
    {
     "data": {
      "text/plain": [
       "('671', '6565', '3.5', '1074784724')"
      ]
     },
     "execution_count": 8,
     "metadata": {},
     "output_type": "execute_result"
    }
   ],
   "source": [
    "user, movie, rating, timestamp"
   ]
  },
  {
   "cell_type": "markdown",
   "metadata": {
    "lang": "sl"
   },
   "source": [
    "Pretvorba časovnega formata (*Unix time*). Kode za oblikovanje so navedene v dokumentaciji modula [`datetime`](https://docs.python.org/3/library/datetime.html#strftime-and-strptime-behavior)."
   ]
  },
  {
   "cell_type": "code",
   "execution_count": null,
   "metadata": {},
   "outputs": [
    {
     "data": {
      "text/plain": [
       "'2008-08-05 02:56'"
      ]
     },
     "execution_count": 9,
     "metadata": {},
     "output_type": "execute_result"
    }
   ],
   "source": [
    "from datetime import datetime\n",
    "\n",
    "t = 1217897793 # Unix-time\n",
    "ts = datetime.fromtimestamp(t).strftime('%Y-%m-%d %H:%M')\n",
    "ts"
   ]
  }
 ],
 "metadata": {
  "kernelspec": {
   "display_name": "Python 3 (ipykernel)",
   "language": "python",
   "name": "python3"
  },
  "language_info": {
   "codemirror_mode": {
    "name": "ipython",
    "version": 3
   },
   "file_extension": ".py",
   "mimetype": "text/x-python",
   "name": "python",
   "nbconvert_exporter": "python",
   "pygments_lexer": "ipython3",
   "version": "3.10.0"
  },
  "latex_envs": {
   "LaTeX_envs_menu_present": true,
   "autocomplete": true,
   "bibliofile": "biblio.bib",
   "cite_by": "apalike",
   "current_citInitial": 1,
   "eqLabelWithNumbers": true,
   "eqNumInitial": 1,
   "hotkeys": {
    "equation": "Ctrl-E",
    "itemize": "Ctrl-I"
   },
   "labels_anchors": false,
   "latex_user_defs": false,
   "report_style_numbering": false,
   "user_envs_cfg": false
  },
  "nbTranslate": {
   "displayLangs": [
    "sl"
   ],
   "hotkey": "alt-t",
   "langInMainMenu": true,
   "sourceLang": "sl",
   "targetLang": "en",
   "useGoogleTranslate": true
  }
 },
 "nbformat": 4,
 "nbformat_minor": 2
}
